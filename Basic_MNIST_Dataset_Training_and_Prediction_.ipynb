{
  "nbformat": 4,
  "nbformat_minor": 0,
  "metadata": {
    "colab": {
      "name": "Basic MNIST Dataset Training and Prediction .ipynb",
      "provenance": []
    },
    "kernelspec": {
      "name": "python3",
      "display_name": "Python 3"
    }
  },
  "cells": [
    {
      "cell_type": "markdown",
      "metadata": {
        "id": "03m93-py3bzn"
      },
      "source": [
        "Import necessary packages "
      ]
    },
    {
      "cell_type": "code",
      "metadata": {
        "id": "SdQGp4Eq3er9"
      },
      "source": [
        "import numpy as np # package for array computation\n",
        "import matplotlib.pyplot as plt #package for plotting \n",
        "import keras #package for deep learning built over tensorflow"
      ],
      "execution_count": 1,
      "outputs": []
    },
    {
      "cell_type": "markdown",
      "metadata": {
        "id": "cLg8hxuu37wQ"
      },
      "source": [
        "Import the MNIST Dataset"
      ]
    },
    {
      "cell_type": "code",
      "metadata": {
        "id": "NgkK7g844AHm"
      },
      "source": [
        "from keras.datasets import mnist"
      ],
      "execution_count": 3,
      "outputs": []
    },
    {
      "cell_type": "markdown",
      "metadata": {
        "id": "3rhtvxPn4NKW"
      },
      "source": [
        "Load training and testing data in different variables"
      ]
    },
    {
      "cell_type": "code",
      "metadata": {
        "id": "iDYDMlLB4bas",
        "outputId": "803c6f7d-d2d7-4621-bb4c-c3f134107b36",
        "colab": {
          "base_uri": "https://localhost:8080/",
          "height": 52
        }
      },
      "source": [
        "(x_train,y_train),(x_test,y_test)=mnist.load_data()"
      ],
      "execution_count": 4,
      "outputs": [
        {
          "output_type": "stream",
          "text": [
            "Downloading data from https://storage.googleapis.com/tensorflow/tf-keras-datasets/mnist.npz\n",
            "11493376/11490434 [==============================] - 0s 0us/step\n"
          ],
          "name": "stdout"
        }
      ]
    },
    {
      "cell_type": "markdown",
      "metadata": {
        "id": "ERMnUadJ40Od"
      },
      "source": [
        "For buildng deep learning model import necessary classes from keras "
      ]
    },
    {
      "cell_type": "code",
      "metadata": {
        "id": "sbWm_-yv49oC"
      },
      "source": [
        "from keras.models import Sequential\n",
        "from keras.layers import Dense,Conv2D,MaxPool2D,Flatten"
      ],
      "execution_count": 6,
      "outputs": []
    },
    {
      "cell_type": "markdown",
      "metadata": {
        "id": "EaaCzDsG5VI4"
      },
      "source": [
        "Build the sequential model"
      ]
    },
    {
      "cell_type": "code",
      "metadata": {
        "id": "TSxCrj_a5XXw"
      },
      "source": [
        "model = keras.Sequential()"
      ],
      "execution_count": 7,
      "outputs": []
    },
    {
      "cell_type": "markdown",
      "metadata": {
        "id": "clhG_BWL5car"
      },
      "source": [
        "Build the deep learning model"
      ]
    },
    {
      "cell_type": "code",
      "metadata": {
        "id": "evmnxe115f_0"
      },
      "source": [
        "model.add(Flatten(input_shape=[28,28])) #input layer \n",
        "model.add(Dense(20,activation='relu')) #hidden layer\n",
        "model.add(Dense(10,activation='softmax')) #output layer "
      ],
      "execution_count": 8,
      "outputs": []
    },
    {
      "cell_type": "markdown",
      "metadata": {
        "id": "OGKQd-vP5xKp"
      },
      "source": [
        "Compile the model "
      ]
    },
    {
      "cell_type": "code",
      "metadata": {
        "id": "fQL0nsRy5yol"
      },
      "source": [
        "model.compile(loss = \"sparse_categorical_crossentropy\",\n",
        "              optimizer = \"adam\",\n",
        "              metrics = [\"accuracy\"])"
      ],
      "execution_count": 9,
      "outputs": []
    },
    {
      "cell_type": "markdown",
      "metadata": {
        "id": "PffQNj3r55Uv"
      },
      "source": [
        "Train the model"
      ]
    },
    {
      "cell_type": "code",
      "metadata": {
        "id": "fvRP3tDy56Tl",
        "outputId": "670ffeaf-b34b-4116-e156-b5340dd2a262",
        "colab": {
          "base_uri": "https://localhost:8080/",
          "height": 746
        }
      },
      "source": [
        "model.fit(x_train,y_train,epochs = 20)"
      ],
      "execution_count": 11,
      "outputs": [
        {
          "output_type": "stream",
          "text": [
            "Epoch 1/20\n",
            "1875/1875 [==============================] - 2s 1ms/step - loss: 0.2980 - accuracy: 0.9214\n",
            "Epoch 2/20\n",
            "1875/1875 [==============================] - 2s 1ms/step - loss: 0.2969 - accuracy: 0.9210\n",
            "Epoch 3/20\n",
            "1875/1875 [==============================] - 2s 1ms/step - loss: 0.2910 - accuracy: 0.9220\n",
            "Epoch 4/20\n",
            "1875/1875 [==============================] - 2s 1ms/step - loss: 0.2887 - accuracy: 0.9225\n",
            "Epoch 5/20\n",
            "1875/1875 [==============================] - 2s 1ms/step - loss: 0.2916 - accuracy: 0.9237\n",
            "Epoch 6/20\n",
            "1875/1875 [==============================] - 2s 1ms/step - loss: 0.2910 - accuracy: 0.9233\n",
            "Epoch 7/20\n",
            "1875/1875 [==============================] - 2s 1ms/step - loss: 0.2829 - accuracy: 0.9250\n",
            "Epoch 8/20\n",
            "1875/1875 [==============================] - 2s 1ms/step - loss: 0.2797 - accuracy: 0.9265\n",
            "Epoch 9/20\n",
            "1875/1875 [==============================] - 2s 1ms/step - loss: 0.2825 - accuracy: 0.9248\n",
            "Epoch 10/20\n",
            "1875/1875 [==============================] - 2s 1ms/step - loss: 0.2785 - accuracy: 0.9259\n",
            "Epoch 11/20\n",
            "1875/1875 [==============================] - 2s 1ms/step - loss: 0.2755 - accuracy: 0.9262\n",
            "Epoch 12/20\n",
            "1875/1875 [==============================] - 2s 1ms/step - loss: 0.2777 - accuracy: 0.9268\n",
            "Epoch 13/20\n",
            "1875/1875 [==============================] - 2s 1ms/step - loss: 0.2782 - accuracy: 0.9266\n",
            "Epoch 14/20\n",
            "1875/1875 [==============================] - 2s 1ms/step - loss: 0.2752 - accuracy: 0.9271\n",
            "Epoch 15/20\n",
            "1875/1875 [==============================] - 2s 1ms/step - loss: 0.2761 - accuracy: 0.9275\n",
            "Epoch 16/20\n",
            "1875/1875 [==============================] - 2s 1ms/step - loss: 0.2762 - accuracy: 0.9272\n",
            "Epoch 17/20\n",
            "1875/1875 [==============================] - 2s 1ms/step - loss: 0.2671 - accuracy: 0.9288\n",
            "Epoch 18/20\n",
            "1875/1875 [==============================] - 2s 1ms/step - loss: 0.2739 - accuracy: 0.9270\n",
            "Epoch 19/20\n",
            "1875/1875 [==============================] - 2s 1ms/step - loss: 0.2669 - accuracy: 0.9292\n",
            "Epoch 20/20\n",
            "1875/1875 [==============================] - 2s 1ms/step - loss: 0.2686 - accuracy: 0.9272\n"
          ],
          "name": "stdout"
        },
        {
          "output_type": "execute_result",
          "data": {
            "text/plain": [
              "<tensorflow.python.keras.callbacks.History at 0x7f8ab356f518>"
            ]
          },
          "metadata": {
            "tags": []
          },
          "execution_count": 11
        }
      ]
    },
    {
      "cell_type": "markdown",
      "metadata": {
        "id": "C-z-LMVT6aOk"
      },
      "source": [
        "Predict the data "
      ]
    },
    {
      "cell_type": "code",
      "metadata": {
        "id": "AlVv7W4u6boR"
      },
      "source": [
        "yp = model.predict(x_test)"
      ],
      "execution_count": 14,
      "outputs": []
    },
    {
      "cell_type": "code",
      "metadata": {
        "id": "xQal1GLD6d4D",
        "outputId": "3df6f629-251f-4acb-90d4-314e2edd192d",
        "colab": {
          "base_uri": "https://localhost:8080/",
          "height": 292
        }
      },
      "source": [
        "plt.matshow(x_test[0])"
      ],
      "execution_count": 15,
      "outputs": [
        {
          "output_type": "execute_result",
          "data": {
            "text/plain": [
              "<matplotlib.image.AxesImage at 0x7f8aa93e6d68>"
            ]
          },
          "metadata": {
            "tags": []
          },
          "execution_count": 15
        },
        {
          "output_type": "display_data",
          "data": {
            "image/png": "[encoded data removed]",
            "text/plain": [
              "<Figure size 288x288 with 1 Axes>"
            ]
          },
          "metadata": {
            "tags": [],
            "needs_background": "light"
          }
        }
      ]
    },
    {
      "cell_type": "code",
      "metadata": {
        "id": "RRRweCul6vAf",
        "outputId": "20e8e542-6049-4ac6-aa55-aeaf274c103c",
        "colab": {
          "base_uri": "https://localhost:8080/",
          "height": 35
        }
      },
      "source": [
        "class_labels = ['zero','one','two','three','four','five','six','seven','eight','nine']\n",
        "print(np.argmax(yp[0]))"
      ],
      "execution_count": 17,
      "outputs": [
        {
          "output_type": "stream",
          "text": [
            "7\n"
          ],
          "name": "stdout"
        }
      ]
    },
    {
      "cell_type": "code",
      "metadata": {
        "id": "8KcPmUts6woP"
      },
      "source": [
        ""
      ],
      "execution_count": null,
      "outputs": []
    }
  ]
}