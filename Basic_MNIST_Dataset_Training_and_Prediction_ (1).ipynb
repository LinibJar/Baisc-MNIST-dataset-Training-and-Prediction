{
  "nbformat": 4,
  "nbformat_minor": 0,
  "metadata": {
    "colab": {
      "name": "Basic MNIST Dataset Training and Prediction .ipynb",
      "provenance": []
    },
    "kernelspec": {
      "name": "python3",
      "display_name": "Python 3"
    }
  },
  "cells": [
    {
      "cell_type": "markdown",
      "metadata": {
        "id": "03m93-py3bzn"
      },
      "source": [
        "Import necessary packages "
      ]
    },
    {
      "cell_type": "code",
      "metadata": {
        "id": "SdQGp4Eq3er9"
      },
      "source": [
        "import numpy as np # package for array computation\n",
        "import matplotlib.pyplot as plt #package for plotting \n",
        "import keras #package for deep learning built over tensorflow"
      ],
      "execution_count": 1,
      "outputs": []
    },
    {
      "cell_type": "markdown",
      "metadata": {
        "id": "cLg8hxuu37wQ"
      },
      "source": [
        "Import the MNIST Dataset"
      ]
    },
    {
      "cell_type": "code",
      "metadata": {
        "id": "NgkK7g844AHm"
      },
      "source": [
        "from keras.datasets import mnist"
      ],
      "execution_count": 3,
      "outputs": []
    },
    {
      "cell_type": "markdown",
      "metadata": {
        "id": "3rhtvxPn4NKW"
      },
      "source": [
        "Load training and testing data in different variables"
      ]
    },
    {
      "cell_type": "code",
      "metadata": {
        "id": "iDYDMlLB4bas",
        "outputId": "803c6f7d-d2d7-4621-bb4c-c3f134107b36",
        "colab": {
          "base_uri": "https://localhost:8080/",
          "height": 52
        }
      },
      "source": [
        "(x_train,y_train),(x_test,y_test)=mnist.load_data()"
      ],
      "execution_count": 4,
      "outputs": [
        {
          "output_type": "stream",
          "text": [
            "Downloading data from https://storage.googleapis.com/tensorflow/tf-keras-datasets/mnist.npz\n",
            "11493376/11490434 [==============================] - 0s 0us/step\n"
          ],
          "name": "stdout"
        }
      ]
    },
    {
      "cell_type": "markdown",
      "metadata": {
        "id": "ERMnUadJ40Od"
      },
      "source": [
        "For buildng deep learning model import necessary classes from keras "
      ]
    },
    {
      "cell_type": "code",
      "metadata": {
        "id": "sbWm_-yv49oC"
      },
      "source": [
        "from keras.models import Sequential\n",
        "from keras.layers import Dense,Conv2D,MaxPool2D,Flatten"
      ],
      "execution_count": 6,
      "outputs": []
    },
    {
      "cell_type": "markdown",
      "metadata": {
        "id": "EaaCzDsG5VI4"
      },
      "source": [
        "Build the sequential model"
      ]
    },
    {
      "cell_type": "code",
      "metadata": {
        "id": "TSxCrj_a5XXw"
      },
      "source": [
        "model = keras.Sequential()"
      ],
      "execution_count": 7,
      "outputs": []
    },
    {
      "cell_type": "markdown",
      "metadata": {
        "id": "clhG_BWL5car"
      },
      "source": [
        "Build the deep learning model"
      ]
    },
    {
      "cell_type": "code",
      "metadata": {
        "id": "evmnxe115f_0"
      },
      "source": [
        "model.add(Flatten(input_shape=[28,28])) #input layer \n",
        "model.add(Dense(20,activation='relu')) #hidden layer\n",
        "model.add(Dense(10,activation='softmax')) #output layer "
      ],
      "execution_count": 8,
      "outputs": []
    },
    {
      "cell_type": "markdown",
      "metadata": {
        "id": "OGKQd-vP5xKp"
      },
      "source": [
        "Compile the model "
      ]
    },
    {
      "cell_type": "code",
      "metadata": {
        "id": "fQL0nsRy5yol"
      },
      "source": [
        "model.compile(loss = \"sparse_categorical_crossentropy\",\n",
        "              optimizer = \"adam\",\n",
        "              metrics = [\"accuracy\"])"
      ],
      "execution_count": 9,
      "outputs": []
    },
    {
      "cell_type": "markdown",
      "metadata": {
        "id": "PffQNj3r55Uv"
      },
      "source": [
        "Train the model"
      ]
    },
    {
      "cell_type": "code",
      "metadata": {
        "id": "fvRP3tDy56Tl",
        "outputId": "ddb2cbbd-5799-471d-859d-3657ed36a588",
        "colab": {
          "base_uri": "https://localhost:8080/",
          "height": 746
        }
      },
      "source": [
        "model.fit(x_train,y_train,epochs = 20,validation_split=0.1)"
      ],
      "execution_count": 23,
      "outputs": [
        {
          "output_type": "stream",
          "text": [
            "Epoch 1/20\n",
            "1688/1688 [==============================] - 3s 2ms/step - loss: 0.2716 - accuracy: 0.9270 - val_loss: 0.2250 - val_accuracy: 0.9422\n",
            "Epoch 2/20\n",
            "1688/1688 [==============================] - 3s 2ms/step - loss: 0.2705 - accuracy: 0.9292 - val_loss: 0.2743 - val_accuracy: 0.9312\n",
            "Epoch 3/20\n",
            "1688/1688 [==============================] - 3s 2ms/step - loss: 0.2681 - accuracy: 0.9276 - val_loss: 0.2626 - val_accuracy: 0.9355\n",
            "Epoch 4/20\n",
            "1688/1688 [==============================] - 3s 2ms/step - loss: 0.2663 - accuracy: 0.9270 - val_loss: 0.2489 - val_accuracy: 0.9370\n",
            "Epoch 5/20\n",
            "1688/1688 [==============================] - 3s 2ms/step - loss: 0.2649 - accuracy: 0.9288 - val_loss: 0.2566 - val_accuracy: 0.9352\n",
            "Epoch 6/20\n",
            "1688/1688 [==============================] - 3s 2ms/step - loss: 0.2703 - accuracy: 0.9285 - val_loss: 0.2426 - val_accuracy: 0.9392\n",
            "Epoch 7/20\n",
            "1688/1688 [==============================] - 3s 2ms/step - loss: 0.2678 - accuracy: 0.9282 - val_loss: 0.2847 - val_accuracy: 0.9248\n",
            "Epoch 8/20\n",
            "1688/1688 [==============================] - 3s 2ms/step - loss: 0.2667 - accuracy: 0.9286 - val_loss: 0.2565 - val_accuracy: 0.9373\n",
            "Epoch 9/20\n",
            "1688/1688 [==============================] - 3s 2ms/step - loss: 0.2621 - accuracy: 0.9299 - val_loss: 0.3039 - val_accuracy: 0.9237\n",
            "Epoch 10/20\n",
            "1688/1688 [==============================] - 3s 2ms/step - loss: 0.2675 - accuracy: 0.9290 - val_loss: 0.2708 - val_accuracy: 0.9303\n",
            "Epoch 11/20\n",
            "1688/1688 [==============================] - 3s 2ms/step - loss: 0.2649 - accuracy: 0.9282 - val_loss: 0.2730 - val_accuracy: 0.9347\n",
            "Epoch 12/20\n",
            "1688/1688 [==============================] - 3s 2ms/step - loss: 0.2622 - accuracy: 0.9301 - val_loss: 0.2693 - val_accuracy: 0.9375\n",
            "Epoch 13/20\n",
            "1688/1688 [==============================] - 3s 2ms/step - loss: 0.2628 - accuracy: 0.9293 - val_loss: 0.2985 - val_accuracy: 0.9230\n",
            "Epoch 14/20\n",
            "1688/1688 [==============================] - 3s 2ms/step - loss: 0.2660 - accuracy: 0.9289 - val_loss: 0.2845 - val_accuracy: 0.9313\n",
            "Epoch 15/20\n",
            "1688/1688 [==============================] - 3s 2ms/step - loss: 0.2624 - accuracy: 0.9299 - val_loss: 0.2992 - val_accuracy: 0.9292\n",
            "Epoch 16/20\n",
            "1688/1688 [==============================] - 3s 2ms/step - loss: 0.2622 - accuracy: 0.9298 - val_loss: 0.2595 - val_accuracy: 0.9402\n",
            "Epoch 17/20\n",
            "1688/1688 [==============================] - 3s 2ms/step - loss: 0.2638 - accuracy: 0.9292 - val_loss: 0.3202 - val_accuracy: 0.9293\n",
            "Epoch 18/20\n",
            "1688/1688 [==============================] - 3s 2ms/step - loss: 0.2583 - accuracy: 0.9294 - val_loss: 0.2861 - val_accuracy: 0.9310\n",
            "Epoch 19/20\n",
            "1688/1688 [==============================] - 3s 2ms/step - loss: 0.2618 - accuracy: 0.9294 - val_loss: 0.3684 - val_accuracy: 0.9285\n",
            "Epoch 20/20\n",
            "1688/1688 [==============================] - 3s 2ms/step - loss: 0.2613 - accuracy: 0.9298 - val_loss: 0.2934 - val_accuracy: 0.9338\n"
          ],
          "name": "stdout"
        },
        {
          "output_type": "execute_result",
          "data": {
            "text/plain": [
              "<tensorflow.python.keras.callbacks.History at 0x7f8aa8c7fba8>"
            ]
          },
          "metadata": {
            "tags": []
          },
          "execution_count": 23
        }
      ]
    },
    {
      "cell_type": "markdown",
      "metadata": {
        "id": "8sXIyPIw-Lla"
      },
      "source": [
        "Plotting the training graph\n"
      ]
    },
    {
      "cell_type": "code",
      "metadata": {
        "id": "CXk5Lvqg8yvz",
        "outputId": "c941351c-37b6-4870-8e84-5f0b988ee2ab",
        "colab": {
          "base_uri": "https://localhost:8080/",
          "height": 1000
        }
      },
      "source": [
        "history = model.fit(x_test, y_test, validation_split=0.1, shuffle=True,epochs=20)\n",
        "plt.plot(history.history['accuracy'])\n",
        "plt.plot(history.history['val_accuracy'])\n",
        "plt.title('model accuracy')\n",
        "plt.ylabel('accuracy')\n",
        "plt.xlabel('epoch')\n",
        "plt.legend(['train', 'val'], loc='upper left')\n",
        "plt.show()"
      ],
      "execution_count": 28,
      "outputs": [
        {
          "output_type": "stream",
          "text": [
            "Epoch 1/20\n",
            "282/282 [==============================] - 1s 2ms/step - loss: 0.2724 - accuracy: 0.9302 - val_loss: 0.3356 - val_accuracy: 0.9160\n",
            "Epoch 2/20\n",
            "282/282 [==============================] - 0s 2ms/step - loss: 0.2554 - accuracy: 0.9323 - val_loss: 0.3872 - val_accuracy: 0.9150\n",
            "Epoch 3/20\n",
            "282/282 [==============================] - 1s 2ms/step - loss: 0.2361 - accuracy: 0.9363 - val_loss: 0.3407 - val_accuracy: 0.9150\n",
            "Epoch 4/20\n",
            "282/282 [==============================] - 0s 2ms/step - loss: 0.2196 - accuracy: 0.9402 - val_loss: 0.4261 - val_accuracy: 0.9080\n",
            "Epoch 5/20\n",
            "282/282 [==============================] - 0s 2ms/step - loss: 0.2090 - accuracy: 0.9423 - val_loss: 0.4223 - val_accuracy: 0.9290\n",
            "Epoch 6/20\n",
            "282/282 [==============================] - 1s 2ms/step - loss: 0.2117 - accuracy: 0.9436 - val_loss: 0.3981 - val_accuracy: 0.9130\n",
            "Epoch 7/20\n",
            "282/282 [==============================] - 1s 2ms/step - loss: 0.1984 - accuracy: 0.9459 - val_loss: 0.5046 - val_accuracy: 0.8900\n",
            "Epoch 8/20\n",
            "282/282 [==============================] - 0s 2ms/step - loss: 0.1884 - accuracy: 0.9471 - val_loss: 0.4673 - val_accuracy: 0.9160\n",
            "Epoch 9/20\n",
            "282/282 [==============================] - 1s 2ms/step - loss: 0.1861 - accuracy: 0.9482 - val_loss: 0.4030 - val_accuracy: 0.9140\n",
            "Epoch 10/20\n",
            "282/282 [==============================] - 0s 2ms/step - loss: 0.1806 - accuracy: 0.9482 - val_loss: 0.4376 - val_accuracy: 0.9130\n",
            "Epoch 11/20\n",
            "282/282 [==============================] - 1s 2ms/step - loss: 0.1924 - accuracy: 0.9476 - val_loss: 0.4526 - val_accuracy: 0.9120\n",
            "Epoch 12/20\n",
            "282/282 [==============================] - 1s 2ms/step - loss: 0.1760 - accuracy: 0.9492 - val_loss: 0.4862 - val_accuracy: 0.9130\n",
            "Epoch 13/20\n",
            "282/282 [==============================] - 0s 2ms/step - loss: 0.1605 - accuracy: 0.9558 - val_loss: 0.5441 - val_accuracy: 0.9170\n",
            "Epoch 14/20\n",
            "282/282 [==============================] - 1s 2ms/step - loss: 0.1619 - accuracy: 0.9558 - val_loss: 0.5365 - val_accuracy: 0.9210\n",
            "Epoch 15/20\n",
            "282/282 [==============================] - 0s 2ms/step - loss: 0.1524 - accuracy: 0.9579 - val_loss: 0.4970 - val_accuracy: 0.9080\n",
            "Epoch 16/20\n",
            "282/282 [==============================] - 1s 2ms/step - loss: 0.1500 - accuracy: 0.9577 - val_loss: 0.5028 - val_accuracy: 0.9230\n",
            "Epoch 17/20\n",
            "282/282 [==============================] - 0s 2ms/step - loss: 0.1648 - accuracy: 0.9558 - val_loss: 0.5883 - val_accuracy: 0.9140\n",
            "Epoch 18/20\n",
            "282/282 [==============================] - 0s 2ms/step - loss: 0.1546 - accuracy: 0.9584 - val_loss: 0.6394 - val_accuracy: 0.9050\n",
            "Epoch 19/20\n",
            "282/282 [==============================] - 1s 2ms/step - loss: 0.1526 - accuracy: 0.9574 - val_loss: 0.5848 - val_accuracy: 0.9130\n",
            "Epoch 20/20\n",
            "282/282 [==============================] - 1s 2ms/step - loss: 0.1466 - accuracy: 0.9599 - val_loss: 0.5670 - val_accuracy: 0.9160\n"
          ],
          "name": "stdout"
        },
        {
          "output_type": "display_data",
          "data": {
            "image/png": "[encoded data removed]",
            "text/plain": [
              "<Figure size 432x288 with 1 Axes>"
            ]
          },
          "metadata": {
            "tags": [],
            "needs_background": "light"
          }
        }
      ]
    },
    {
      "cell_type": "markdown",
      "metadata": {
        "id": "C-z-LMVT6aOk"
      },
      "source": [
        "Predict the data "
      ]
    },
    {
      "cell_type": "code",
      "metadata": {
        "id": "AlVv7W4u6boR"
      },
      "source": [
        "yp = model.predict(x_test)"
      ],
      "execution_count": 14,
      "outputs": []
    },
    {
      "cell_type": "code",
      "metadata": {
        "id": "xQal1GLD6d4D",
        "outputId": "63314e9f-b875-4239-8095-4a0e324f39b3",
        "colab": {
          "base_uri": "https://localhost:8080/",
          "height": 292
        }
      },
      "source": [
        "plt.matshow(x_test[50])"
      ],
      "execution_count": 18,
      "outputs": [
        {
          "output_type": "execute_result",
          "data": {
            "text/plain": [
              "<matplotlib.image.AxesImage at 0x7f8aa8ceea58>"
            ]
          },
          "metadata": {
            "tags": []
          },
          "execution_count": 18
        },
        {
          "output_type": "display_data",
          "data": {
            "image/png": "[encoded data removed]",
            "text/plain": [
              "<Figure size 288x288 with 1 Axes>"
            ]
          },
          "metadata": {
            "tags": [],
            "needs_background": "light"
          }
        }
      ]
    },
    {
      "cell_type": "code",
      "metadata": {
        "id": "RRRweCul6vAf",
        "outputId": "2278a755-92ba-4117-90a3-a17d13f55744",
        "colab": {
          "base_uri": "https://localhost:8080/",
          "height": 35
        }
      },
      "source": [
        "class_labels = ['zero','one','two','three','four','five','six','seven','eight','nine']\n",
        "print(np.argmax(yp[50]))"
      ],
      "execution_count": 19,
      "outputs": [
        {
          "output_type": "stream",
          "text": [
            "6\n"
          ],
          "name": "stdout"
        }
      ]
    },
    {
      "cell_type": "code",
      "metadata": {
        "id": "8KcPmUts6woP"
      },
      "source": [
        ""
      ],
      "execution_count": null,
      "outputs": []
    }
  ]
}